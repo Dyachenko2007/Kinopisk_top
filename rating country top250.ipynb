{
 "cells": [
  {
   "cell_type": "code",
   "execution_count": 1,
   "id": "ef9ee0a8",
   "metadata": {},
   "outputs": [],
   "source": [
    "import pandas as pd"
   ]
  },
  {
   "cell_type": "code",
   "execution_count": 6,
   "id": "b3c55094",
   "metadata": {},
   "outputs": [
    {
     "data": {
      "text/plain": [
       "8.211136054421768"
      ]
     },
     "execution_count": 6,
     "metadata": {},
     "output_type": "execute_result"
    }
   ],
   "source": [
    "df = pd.read_csv('kp250.csv')\n",
    "df['rating_ball'].astype(float)\n",
    "df = df[['country', 'rating_ball']]\n",
    "usa = df.loc[df['country']=='США']\n",
    "usa = usa['rating_ball'].mean()\n",
    "usa "
   ]
  },
  {
   "cell_type": "code",
   "execution_count": 7,
   "id": "74614694",
   "metadata": {},
   "outputs": [
    {
     "data": {
      "text/plain": [
       "8.331024390243902"
      ]
     },
     "execution_count": 7,
     "metadata": {},
     "output_type": "execute_result"
    }
   ],
   "source": [
    "ussr = df.loc[df['country']=='СССР']\n",
    "ussr = ussr['rating_ball'].mean()\n",
    "ussr"
   ]
  },
  {
   "cell_type": "code",
   "execution_count": 8,
   "id": "bcb97b2a",
   "metadata": {},
   "outputs": [
    {
     "data": {
      "text/plain": [
       "8.211666666666668"
      ]
     },
     "execution_count": 8,
     "metadata": {},
     "output_type": "execute_result"
    }
   ],
   "source": [
    "uk = df.loc[df['country']=='Великобритания']\n",
    "uk = uk['rating_ball'].mean()\n",
    "uk"
   ]
  },
  {
   "cell_type": "code",
   "execution_count": null,
   "id": "07ae83da",
   "metadata": {},
   "outputs": [],
   "source": []
  }
 ],
 "metadata": {
  "kernelspec": {
   "display_name": "Python 3 (ipykernel)",
   "language": "python",
   "name": "python3"
  },
  "language_info": {
   "codemirror_mode": {
    "name": "ipython",
    "version": 3
   },
   "file_extension": ".py",
   "mimetype": "text/x-python",
   "name": "python",
   "nbconvert_exporter": "python",
   "pygments_lexer": "ipython3",
   "version": "3.10.3"
  }
 },
 "nbformat": 4,
 "nbformat_minor": 5
}

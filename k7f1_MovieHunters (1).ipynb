{
 "cells": [
  {
   "cell_type": "code",
   "execution_count": 3,
   "metadata": {
    "colab": {
     "base_uri": "https://localhost:8080/"
    },
    "id": "bTBS1hWM1nl0",
    "outputId": "a13cc10d-ff8b-421d-ac67-153b860bf425"
   },
   "outputs": [
    {
     "name": "stderr",
     "output_type": "stream",
     "text": [
      "\"pip\" ­Ґ пў«пҐвбп ў­гваҐ­­Ґ© Ё«Ё ў­Ґи­Ґ©\n",
      "Є®¬ ­¤®©, ЁбЇ®«­пҐ¬®© Їа®Ја ¬¬®© Ё«Ё Ї ЄҐв­л¬ д ©«®¬.\n",
      "\"pip\" ­Ґ пў«пҐвбп ў­гваҐ­­Ґ© Ё«Ё ў­Ґи­Ґ©\n",
      "Є®¬ ­¤®©, ЁбЇ®«­пҐ¬®© Їа®Ја ¬¬®© Ё«Ё Ї ЄҐв­л¬ д ©«®¬.\n",
      "Python \n"
     ]
    },
    {
     "ename": "ModuleNotFoundError",
     "evalue": "No module named 'dostoevsky'",
     "output_type": "error",
     "traceback": [
      "\u001b[1;31m---------------------------------------------------------------------------\u001b[0m",
      "\u001b[1;31mModuleNotFoundError\u001b[0m                       Traceback (most recent call last)",
      "Input \u001b[1;32mIn [3]\u001b[0m, in \u001b[0;36m<cell line: 10>\u001b[1;34m()\u001b[0m\n\u001b[0;32m      8\u001b[0m \u001b[38;5;28;01mfrom\u001b[39;00m \u001b[38;5;21;01mnltk\u001b[39;00m\u001b[38;5;21;01m.\u001b[39;00m\u001b[38;5;21;01mcorpus\u001b[39;00m \u001b[38;5;28;01mimport\u001b[39;00m stopwords\n\u001b[0;32m      9\u001b[0m \u001b[38;5;28;01mimport\u001b[39;00m \u001b[38;5;21;01mpymorphy2\u001b[39;00m\n\u001b[1;32m---> 10\u001b[0m \u001b[38;5;28;01mfrom\u001b[39;00m \u001b[38;5;21;01mdostoevsky\u001b[39;00m\u001b[38;5;21;01m.\u001b[39;00m\u001b[38;5;21;01mtokenization\u001b[39;00m \u001b[38;5;28;01mimport\u001b[39;00m RegexTokenizer\n\u001b[0;32m     11\u001b[0m \u001b[38;5;28;01mfrom\u001b[39;00m \u001b[38;5;21;01mdostoevsky\u001b[39;00m\u001b[38;5;21;01m.\u001b[39;00m\u001b[38;5;21;01mmodels\u001b[39;00m \u001b[38;5;28;01mimport\u001b[39;00m FastTextSocialNetworkModel\n",
      "\u001b[1;31mModuleNotFoundError\u001b[0m: No module named 'dostoevsky'"
     ]
    }
   ],
   "source": [
    "# импорт библиотек\n",
    "!pip install pymorphy2\n",
    "!pip install dostoevsky\n",
    "!python -m dostoevsky download fasttext-social-network-model\n",
    "import numpy as np\n",
    "import pandas as pd\n",
    "import nltk\n",
    "from nltk.corpus import stopwords\n",
    "import pymorphy2\n",
    "from dostoevsky.tokenization import RegexTokenizer\n",
    "from dostoevsky.models import FastTextSocialNetworkModel\n",
    "# импорт других нужных библиотек\n",
    "# ..."
   ]
  },
  {
   "cell_type": "markdown",
   "metadata": {
    "id": "9A0bpANf-P-D"
   },
   "source": [
    "*!! Озаглавьте файл .ipynb именем своей команды: k7f1_MovieHunters*\n",
    "# Название проекта\n",
    "Зависимость рейтинга фильмов от стран-производителей\n",
    "\n",
    "## 1. Цель проекта.\n",
    "Узнать зависимость рейтинга фильмов от стран-производителей.\n",
    "\n",
    "## 2. Описание проделанной работы\n",
    "### 2.1. Данные \n",
    "2.1.1. Название датасета. Короткая текстовая аннотация исходного датасета (какие признаки и сколько, число строк и проч.). Разведочный анализ."
   ]
  },
  {
   "cell_type": "code",
   "execution_count": null,
   "metadata": {
    "id": "Kp8M44o1sJ7N"
   },
   "outputs": [],
   "source": []
  },
  {
   "cell_type": "code",
   "execution_count": 12,
   "metadata": {
    "colab": {
     "base_uri": "https://localhost:8080/",
     "height": 354
    },
    "id": "ecfKUP0t1qb8",
    "outputId": "e9c68ca0-8c66-45de-ae23-48730b698631"
   },
   "outputs": [
    {
     "name": "stdout",
     "output_type": "stream",
     "text": [
      "Drive already mounted at /content/drive; to attempt to forcibly remount, call drive.mount(\"/content/drive\", force_remount=True).\n"
     ]
    },
    {
     "data": {
      "text/html": [
       "\n",
       "  <div id=\"df-53689184-11e6-4730-b2ab-f3562f6a3987\">\n",
       "    <div class=\"colab-df-container\">\n",
       "      <div>\n",
       "<style scoped>\n",
       "    .dataframe tbody tr th:only-of-type {\n",
       "        vertical-align: middle;\n",
       "    }\n",
       "\n",
       "    .dataframe tbody tr th {\n",
       "        vertical-align: top;\n",
       "    }\n",
       "\n",
       "    .dataframe thead th {\n",
       "        text-align: right;\n",
       "    }\n",
       "</style>\n",
       "<table border=\"1\" class=\"dataframe\">\n",
       "  <thead>\n",
       "    <tr style=\"text-align: right;\">\n",
       "      <th></th>\n",
       "      <th>rating</th>\n",
       "      <th>movie</th>\n",
       "      <th>year</th>\n",
       "      <th>country</th>\n",
       "      <th>rating_ball</th>\n",
       "      <th>overview</th>\n",
       "      <th>director</th>\n",
       "      <th>screenwriter</th>\n",
       "      <th>actors</th>\n",
       "      <th>url_logo</th>\n",
       "    </tr>\n",
       "  </thead>\n",
       "  <tbody>\n",
       "    <tr>\n",
       "      <th>0</th>\n",
       "      <td>0</td>\n",
       "      <td>Побег из Шоушенка</td>\n",
       "      <td>1994</td>\n",
       "      <td>США</td>\n",
       "      <td>9.111</td>\n",
       "      <td>Бухгалтер Энди Дюфрейн обвинён в убийстве собс...</td>\n",
       "      <td>Фрэнк Дарабонт</td>\n",
       "      <td>Фрэнк Дарабонт;  Стивен Кинг</td>\n",
       "      <td>Тим Роббинс; Морган Фриман; Боб Гантон; Уильям...</td>\n",
       "      <td>'https://st.kp.yandex.net/images/film_iphone/i...</td>\n",
       "    </tr>\n",
       "    <tr>\n",
       "      <th>1</th>\n",
       "      <td>1</td>\n",
       "      <td>Зеленая миля</td>\n",
       "      <td>1999</td>\n",
       "      <td>США</td>\n",
       "      <td>9.062</td>\n",
       "      <td>Пол Эджкомб — начальник блока смертников в тюр...</td>\n",
       "      <td>Фрэнк Дарабонт</td>\n",
       "      <td>Фрэнк Дарабонт;  Стивен Кинг</td>\n",
       "      <td>Том Хэнкс; Дэвид Морс; Бонни Хант; Майкл Кларк...</td>\n",
       "      <td>'https://st.kp.yandex.net/images/film_iphone/i...</td>\n",
       "    </tr>\n",
       "    <tr>\n",
       "      <th>2</th>\n",
       "      <td>2</td>\n",
       "      <td>Форрест Гамп</td>\n",
       "      <td>1994</td>\n",
       "      <td>США</td>\n",
       "      <td>8.913</td>\n",
       "      <td>От лица главного героя Форреста Гампа; слабоум...</td>\n",
       "      <td>Роберт Земекис</td>\n",
       "      <td>Эрик Рот;  Уинстон Грум</td>\n",
       "      <td>Том Хэнкс; Робин Райт; Салли Филд; Гэри Синиз;...</td>\n",
       "      <td>'https://st.kp.yandex.net/images/film_iphone/i...</td>\n",
       "    </tr>\n",
       "    <tr>\n",
       "      <th>3</th>\n",
       "      <td>3</td>\n",
       "      <td>Список Шиндлера</td>\n",
       "      <td>1993</td>\n",
       "      <td>США</td>\n",
       "      <td>8.817</td>\n",
       "      <td>Фильм рассказывает реальную историю загадочног...</td>\n",
       "      <td>Стивен Спилберг</td>\n",
       "      <td>Стивен Зеллиан;  Томас Кенилли</td>\n",
       "      <td>Лиам Нисон; Бен Кингсли; Рэйф Файнс; Кэролайн ...</td>\n",
       "      <td>'https://st.kp.yandex.net/images/film_iphone/i...</td>\n",
       "    </tr>\n",
       "    <tr>\n",
       "      <th>4</th>\n",
       "      <td>4</td>\n",
       "      <td>1+1</td>\n",
       "      <td>2011</td>\n",
       "      <td>Франция</td>\n",
       "      <td>8.807</td>\n",
       "      <td>Пострадав в результате несчастного случая; бог...</td>\n",
       "      <td>Оливье Накаш;  Эрик Толедано</td>\n",
       "      <td>Оливье Накаш;  Филипп Поццо ди Борго;  Эрик Т...</td>\n",
       "      <td>Франсуа Клюзе; Омар Си; Анн Ле Ни; Одри Флеро;...</td>\n",
       "      <td>'https://st.kp.yandex.net/images/film_iphone/i...</td>\n",
       "    </tr>\n",
       "  </tbody>\n",
       "</table>\n",
       "</div>\n",
       "      <button class=\"colab-df-convert\" onclick=\"convertToInteractive('df-53689184-11e6-4730-b2ab-f3562f6a3987')\"\n",
       "              title=\"Convert this dataframe to an interactive table.\"\n",
       "              style=\"display:none;\">\n",
       "        \n",
       "  <svg xmlns=\"http://www.w3.org/2000/svg\" height=\"24px\"viewBox=\"0 0 24 24\"\n",
       "       width=\"24px\">\n",
       "    <path d=\"M0 0h24v24H0V0z\" fill=\"none\"/>\n",
       "    <path d=\"M18.56 5.44l.94 2.06.94-2.06 2.06-.94-2.06-.94-.94-2.06-.94 2.06-2.06.94zm-11 1L8.5 8.5l.94-2.06 2.06-.94-2.06-.94L8.5 2.5l-.94 2.06-2.06.94zm10 10l.94 2.06.94-2.06 2.06-.94-2.06-.94-.94-2.06-.94 2.06-2.06.94z\"/><path d=\"M17.41 7.96l-1.37-1.37c-.4-.4-.92-.59-1.43-.59-.52 0-1.04.2-1.43.59L10.3 9.45l-7.72 7.72c-.78.78-.78 2.05 0 2.83L4 21.41c.39.39.9.59 1.41.59.51 0 1.02-.2 1.41-.59l7.78-7.78 2.81-2.81c.8-.78.8-2.07 0-2.86zM5.41 20L4 18.59l7.72-7.72 1.47 1.35L5.41 20z\"/>\n",
       "  </svg>\n",
       "      </button>\n",
       "      \n",
       "  <style>\n",
       "    .colab-df-container {\n",
       "      display:flex;\n",
       "      flex-wrap:wrap;\n",
       "      gap: 12px;\n",
       "    }\n",
       "\n",
       "    .colab-df-convert {\n",
       "      background-color: #E8F0FE;\n",
       "      border: none;\n",
       "      border-radius: 50%;\n",
       "      cursor: pointer;\n",
       "      display: none;\n",
       "      fill: #1967D2;\n",
       "      height: 32px;\n",
       "      padding: 0 0 0 0;\n",
       "      width: 32px;\n",
       "    }\n",
       "\n",
       "    .colab-df-convert:hover {\n",
       "      background-color: #E2EBFA;\n",
       "      box-shadow: 0px 1px 2px rgba(60, 64, 67, 0.3), 0px 1px 3px 1px rgba(60, 64, 67, 0.15);\n",
       "      fill: #174EA6;\n",
       "    }\n",
       "\n",
       "    [theme=dark] .colab-df-convert {\n",
       "      background-color: #3B4455;\n",
       "      fill: #D2E3FC;\n",
       "    }\n",
       "\n",
       "    [theme=dark] .colab-df-convert:hover {\n",
       "      background-color: #434B5C;\n",
       "      box-shadow: 0px 1px 3px 1px rgba(0, 0, 0, 0.15);\n",
       "      filter: drop-shadow(0px 1px 2px rgba(0, 0, 0, 0.3));\n",
       "      fill: #FFFFFF;\n",
       "    }\n",
       "  </style>\n",
       "\n",
       "      <script>\n",
       "        const buttonEl =\n",
       "          document.querySelector('#df-53689184-11e6-4730-b2ab-f3562f6a3987 button.colab-df-convert');\n",
       "        buttonEl.style.display =\n",
       "          google.colab.kernel.accessAllowed ? 'block' : 'none';\n",
       "\n",
       "        async function convertToInteractive(key) {\n",
       "          const element = document.querySelector('#df-53689184-11e6-4730-b2ab-f3562f6a3987');\n",
       "          const dataTable =\n",
       "            await google.colab.kernel.invokeFunction('convertToInteractive',\n",
       "                                                     [key], {});\n",
       "          if (!dataTable) return;\n",
       "\n",
       "          const docLinkHtml = 'Like what you see? Visit the ' +\n",
       "            '<a target=\"_blank\" href=https://colab.research.google.com/notebooks/data_table.ipynb>data table notebook</a>'\n",
       "            + ' to learn more about interactive tables.';\n",
       "          element.innerHTML = '';\n",
       "          dataTable['output_type'] = 'display_data';\n",
       "          await google.colab.output.renderOutput(dataTable, element);\n",
       "          const docLink = document.createElement('div');\n",
       "          docLink.innerHTML = docLinkHtml;\n",
       "          element.appendChild(docLink);\n",
       "        }\n",
       "      </script>\n",
       "    </div>\n",
       "  </div>\n",
       "  "
      ],
      "text/plain": [
       "   rating               movie  year  country  rating_ball  \\\n",
       "0       0  Побег из Шоушенка   1994      США        9.111   \n",
       "1       1       Зеленая миля   1999      США        9.062   \n",
       "2       2       Форрест Гамп   1994      США        8.913   \n",
       "3       3    Список Шиндлера   1993      США        8.817   \n",
       "4       4                1+1   2011  Франция        8.807   \n",
       "\n",
       "                                            overview  \\\n",
       "0  Бухгалтер Энди Дюфрейн обвинён в убийстве собс...   \n",
       "1  Пол Эджкомб — начальник блока смертников в тюр...   \n",
       "2  От лица главного героя Форреста Гампа; слабоум...   \n",
       "3  Фильм рассказывает реальную историю загадочног...   \n",
       "4  Пострадав в результате несчастного случая; бог...   \n",
       "\n",
       "                        director  \\\n",
       "0                 Фрэнк Дарабонт   \n",
       "1                 Фрэнк Дарабонт   \n",
       "2                 Роберт Земекис   \n",
       "3                Стивен Спилберг   \n",
       "4   Оливье Накаш;  Эрик Толедано   \n",
       "\n",
       "                                        screenwriter  \\\n",
       "0                       Фрэнк Дарабонт;  Стивен Кинг   \n",
       "1                       Фрэнк Дарабонт;  Стивен Кинг   \n",
       "2                            Эрик Рот;  Уинстон Грум   \n",
       "3                     Стивен Зеллиан;  Томас Кенилли   \n",
       "4   Оливье Накаш;  Филипп Поццо ди Борго;  Эрик Т...   \n",
       "\n",
       "                                              actors  \\\n",
       "0  Тим Роббинс; Морган Фриман; Боб Гантон; Уильям...   \n",
       "1  Том Хэнкс; Дэвид Морс; Бонни Хант; Майкл Кларк...   \n",
       "2  Том Хэнкс; Робин Райт; Салли Филд; Гэри Синиз;...   \n",
       "3  Лиам Нисон; Бен Кингсли; Рэйф Файнс; Кэролайн ...   \n",
       "4  Франсуа Клюзе; Омар Си; Анн Ле Ни; Одри Флеро;...   \n",
       "\n",
       "                                            url_logo  \n",
       "0  'https://st.kp.yandex.net/images/film_iphone/i...  \n",
       "1  'https://st.kp.yandex.net/images/film_iphone/i...  \n",
       "2  'https://st.kp.yandex.net/images/film_iphone/i...  \n",
       "3  'https://st.kp.yandex.net/images/film_iphone/i...  \n",
       "4  'https://st.kp.yandex.net/images/film_iphone/i...  "
      ]
     },
     "execution_count": 12,
     "metadata": {},
     "output_type": "execute_result"
    }
   ],
   "source": [
    "# Разместите ваш датасет на Google Drive в папку на общем диске, который \n",
    "# называется Campus_K7. Создайте там подпапку по имени вашей команды. \n",
    "\n",
    "# загрузка данных с Google Drive\n",
    "from google.colab import drive\n",
    "drive.mount('/content/drive')\n",
    "df = pd.read_csv('/content/drive/Shared drives/Campus_K7/DATA_K7/Копия kinopoisk-top250.csv')\n",
    "\n",
    "# Фрагмент датасета с заголовками фич\n",
    "df.head()"
   ]
  },
  {
   "cell_type": "code",
   "execution_count": 2,
   "metadata": {
    "colab": {
     "base_uri": "https://localhost:8080/",
     "height": 441
    },
    "id": "SJUuMJnxV5A8",
    "outputId": "bdea185e-b0c4-4ff2-a5b6-e2e4224fddab"
   },
   "outputs": [
    {
     "ename": "NameError",
     "evalue": "name 'RegexTokenizer' is not defined",
     "output_type": "error",
     "traceback": [
      "\u001b[1;31m---------------------------------------------------------------------------\u001b[0m",
      "\u001b[1;31mNameError\u001b[0m                                 Traceback (most recent call last)",
      "Input \u001b[1;32mIn [2]\u001b[0m, in \u001b[0;36m<cell line: 1>\u001b[1;34m()\u001b[0m\n\u001b[1;32m----> 1\u001b[0m tokenizer \u001b[38;5;241m=\u001b[39m \u001b[43mRegexTokenizer\u001b[49m()\n\u001b[0;32m      2\u001b[0m tokens \u001b[38;5;241m=\u001b[39m tokenizer\u001b[38;5;241m.\u001b[39msplit(\u001b[38;5;124m'\u001b[39m\u001b[38;5;124mвсё очень плохо\u001b[39m\u001b[38;5;124m'\u001b[39m)  \u001b[38;5;66;03m# [('всё', None), ('очень', None), ('плохо', None)]\u001b[39;00m\n\u001b[0;32m      3\u001b[0m model \u001b[38;5;241m=\u001b[39m FastTextSocialNetworkModel(tokenizer\u001b[38;5;241m=\u001b[39mtokenizer)\n",
      "\u001b[1;31mNameError\u001b[0m: name 'RegexTokenizer' is not defined"
     ]
    }
   ],
   "source": [
    "tokenizer = RegexTokenizer()\n",
    "tokens = tokenizer.split('всё очень плохо')  # [('всё', None), ('очень', None), ('плохо', None)]\n",
    "model = FastTextSocialNetworkModel(tokenizer=tokenizer)\n",
    "messages = df['overview']\n",
    "results = model.predict(messages, k=5)\n",
    "results = pd.DataFrame(results)\n",
    "results\n"
   ]
  },
  {
   "cell_type": "code",
   "execution_count": null,
   "metadata": {
    "colab": {
     "base_uri": "https://localhost:8080/"
    },
    "id": "BzaE1vqDrlRq",
    "outputId": "e42eaff1-4f79-43c0-d17b-e1df921ecc17"
   },
   "outputs": [
    {
     "name": "stdout",
     "output_type": "stream",
     "text": [
      "Mounted at /content/drive\n"
     ]
    }
   ],
   "source": [
    "from google.colab import drive\n",
    "drive.mount('/content/drive')"
   ]
  },
  {
   "cell_type": "markdown",
   "metadata": {
    "id": "RKG_cGEGB7Wz"
   },
   "source": [
    "Рассказать про результаты разведочного анализа, описать данные. Желательно показать варианты визуализации данных датасета (либо сделать это после предобработки), прокомментировать, какие выводы можно сделать из визуализации."
   ]
  },
  {
   "cell_type": "markdown",
   "metadata": {
    "id": "4JrRAB53rtrx"
   },
   "source": [
    "\n",
    "###2.2. Токенизация, лемматизация, чистка данных. Описать, какой обработке были подвергнуты исходные данные. "
   ]
  },
  {
   "cell_type": "code",
   "execution_count": null,
   "metadata": {
    "id": "JfhtekhxtpQH"
   },
   "outputs": [],
   "source": [
    "# ваш код для каждой процедуры...\n",
    "#lem = Mystem()\n",
    "#def preprocess_text(x):\n",
    "   #return [word.rstrip() for word in (''.join(lem.lemmatize(x))).split(' ') if (word not in stop and word != '')]\n",
    "import pandas as pd\n",
    "df = pd.read_csv('/content/drive/Shareddrives/Campus_K7/DATA_K7/kinopoisk-top250.csv')\n",
    "df.drop(columns = ['rating','movie', 'year', 'actors','overview','director','screenwriter', 'url_logo'], axis = 1)\n",
    "#df['country'].value_counts().loc[lambda x : x > 6]\n",
    "\n",
    "\n",
    "\n",
    "\n"
   ]
  },
  {
   "cell_type": "markdown",
   "metadata": {
    "id": "4jFSPnXeUfab"
   },
   "source": [
    "###2.3 Моделирование"
   ]
  },
  {
   "cell_type": "markdown",
   "metadata": {
    "id": "GIY2I_tAB3xl"
   },
   "source": [
    "2.3.1. Какой алгоритм был выбран для решения поставленной задачи, как настраивали и улучшали модель.\n"
   ]
  },
  {
   "cell_type": "code",
   "execution_count": null,
   "metadata": {
    "id": "V2Av7Tkn_Y2x"
   },
   "outputs": [],
   "source": [
    "# соответствующий код с комментариями, что он делает"
   ]
  },
  {
   "cell_type": "markdown",
   "metadata": {
    "id": "EHk2CJ4uUC7i"
   },
   "source": [
    "2.3.2. Результаты и оценка качества модели."
   ]
  },
  {
   "cell_type": "code",
   "execution_count": null,
   "metadata": {
    "id": "jz2mil2eUNN-"
   },
   "outputs": [],
   "source": [
    "# код с комментариями, что он делает"
   ]
  },
  {
   "cell_type": "markdown",
   "metadata": {
    "id": "8Mxz7kBY3BtZ"
   },
   "source": [
    "Интерпретация метрик качества"
   ]
  },
  {
   "cell_type": "markdown",
   "metadata": {
    "id": "Ih3LxsEZULK3"
   },
   "source": [
    "2.3.3. Визуализация результатов.\n"
   ]
  },
  {
   "cell_type": "code",
   "execution_count": null,
   "metadata": {
    "id": "xxTbf1hNUV9o"
   },
   "outputs": [],
   "source": [
    "# код с комментариями, что он делает"
   ]
  },
  {
   "cell_type": "markdown",
   "metadata": {
    "id": "WV1UpOZ2wRNO"
   },
   "source": [
    "###2.4 Интерпретация результатов моделирования\n",
    "\n",
    "Про что обнаруженные темы / кластеры, как их понимать, как вы их назвали? Что с ними происходит со временем и т.д. Здесь вы отвечаете на все исследовательские вопросы, причем не в терминах частотности, но нужно придать этому смысл – культурный, социологический, индустриальный и т.п.  "
   ]
  },
  {
   "cell_type": "markdown",
   "metadata": {
    "id": "tZjoHqz9UUlV"
   },
   "source": [
    "\n",
    "##3. Заключение. \n",
    "(Обязательный пункт вне зависимости от результата; должен быть в тексте.)\n",
    "\n",
    "Описать, к каким выводам пришли, что обнаружили, достигнута ли цель. Если бы вы выступали на конференции или давали интервью, как бы вы описали ваши находки? Если не достигнута, то описать, что этому препятствовало.\n",
    "\n"
   ]
  }
 ],
 "metadata": {
  "colab": {
   "collapsed_sections": [],
   "name": "k7f1_MovieHunters.ipynb",
   "provenance": []
  },
  "kernelspec": {
   "display_name": "Python 3 (ipykernel)",
   "language": "python",
   "name": "python3"
  },
  "language_info": {
   "codemirror_mode": {
    "name": "ipython",
    "version": 3
   },
   "file_extension": ".py",
   "mimetype": "text/x-python",
   "name": "python",
   "nbconvert_exporter": "python",
   "pygments_lexer": "ipython3",
   "version": "3.9.13"
  }
 },
 "nbformat": 4,
 "nbformat_minor": 4
}
